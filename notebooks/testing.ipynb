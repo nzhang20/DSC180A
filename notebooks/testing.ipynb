{
 "cells": [
  {
   "cell_type": "code",
   "execution_count": 43,
   "id": "ca6687bf-0d85-4c89-9d94-30e95e61f98b",
   "metadata": {},
   "outputs": [],
   "source": [
    "import pandas as pd\n",
    "import numpy as np\n",
    "\n",
    "from causallearn.search.ConstraintBased.FCI import fci\n",
    "from causallearn.utils.GraphUtils import GraphUtils"
   ]
  },
  {
   "cell_type": "code",
   "execution_count": 37,
   "id": "19c146bf-fc6d-416e-96ff-a1ee1c83be7d",
   "metadata": {},
   "outputs": [],
   "source": [
    "data = pd.read_csv(\"../data/clean.csv\")"
   ]
  },
  {
   "cell_type": "code",
   "execution_count": 38,
   "id": "d2e12ff8-3dfe-45be-8f2a-23af0c931538",
   "metadata": {},
   "outputs": [],
   "source": [
    "def numerical_encoding(data):\n",
    "    '''\n",
    "    Encodes categorical variables in the subject datset into numeric discrete variables. Returns the resulting dataframe. \n",
    "\n",
    "    :param: data: raw subject dataset\n",
    "    ''' \n",
    "    X = data.copy()\n",
    "    X['Ethnicity'] = X['Ethnicity'].map({'C': 0, 'A': 1, 'B': 2, 'H': 3, 'unknown': 4})\n",
    "    X['Gender'] = X['Gender'].map({'M': 0, 'F': 1})\n",
    "    X['IRIS'] = X['IRIS'].map({'IR': 0, 'IS': 1, 'Unknown': 2})\n",
    "    return X\n",
    "\n",
    "\n",
    "def IR_IS_split(df, numerical=False):\n",
    "    '''\n",
    "    Returns two dataframes where each is separated by the IRIS column.\n",
    "\n",
    "    :param: df: dataframe containing all individuals and the 'IRIS' column\n",
    "    '''\n",
    "    if \"IRIS\" not in df.columns:\n",
    "        raise Exception(\"IRIS is not in the columns of df.\")\n",
    "\n",
    "    if numerical:\n",
    "        IR_df = df[df['IRIS'] == 0]  # Insulin-resistant group\n",
    "        IS_df = df[df['IRIS'] == 1]  # Insulin-sensitive group\n",
    "\n",
    "    else:\n",
    "        IR_df = df[df['IRIS'] == 'IR']\n",
    "        IS_df = df[df['IRIS'] == 'IS']\n",
    "\n",
    "    IR_df = IR_df.drop(columns='IRIS')\n",
    "    IS_df = IS_df.drop(columns='IRIS')\n",
    "    \n",
    "    return IR_df, IS_df"
   ]
  },
  {
   "cell_type": "code",
   "execution_count": 39,
   "id": "0210c2fd-2f96-48e6-bc60-d9e09ceecc6f",
   "metadata": {},
   "outputs": [],
   "source": [
    "data = numerical_encoding(data)\n",
    "IR, IS = IR_IS_split(data, True)"
   ]
  },
  {
   "cell_type": "code",
   "execution_count": 44,
   "id": "0e169b1e-fbaf-4eed-899b-ddf03147c5d4",
   "metadata": {},
   "outputs": [
    {
     "data": {
      "application/vnd.jupyter.widget-view+json": {
       "model_id": "48c24a5d93774f8faefb1951ed566ce5",
       "version_major": 2,
       "version_minor": 0
      },
      "text/plain": [
       "  0%|          | 0/50 [00:00<?, ?it/s]"
      ]
     },
     "metadata": {},
     "output_type": "display_data"
    },
    {
     "name": "stdout",
     "output_type": "stream",
     "text": [
      "X27 --> X2\n",
      "X32 --> X3\n",
      "X45 --> X3\n",
      "X4 --> X23\n",
      "X39 --> X4\n",
      "X4 --> X40\n",
      "X45 --> X5\n",
      "X25 --> X8\n",
      "X23 --> X13\n",
      "X19 --> X39\n",
      "X19 --> X40\n",
      "X19 --> X41\n",
      "X23 --> X20\n",
      "X40 --> X20\n",
      "X32 --> X27\n",
      "X27 --> X45\n",
      "X37 --> X32\n",
      "X32 --> X38\n",
      "X42 --> X37\n"
     ]
    }
   ],
   "source": [
    "g_ir, edges_ir = fci(IR.values, independence_test_method='fisherz')"
   ]
  },
  {
   "cell_type": "code",
   "execution_count": null,
   "id": "46fe3864-6788-446f-9071-bd6e31d921a5",
   "metadata": {},
   "outputs": [],
   "source": []
  }
 ],
 "metadata": {
  "kernelspec": {
   "display_name": "Python 3 (ipykernel)",
   "language": "python",
   "name": "python3"
  },
  "language_info": {
   "codemirror_mode": {
    "name": "ipython",
    "version": 3
   },
   "file_extension": ".py",
   "mimetype": "text/x-python",
   "name": "python",
   "nbconvert_exporter": "python",
   "pygments_lexer": "ipython3",
   "version": "3.12.0"
  }
 },
 "nbformat": 4,
 "nbformat_minor": 5
}
